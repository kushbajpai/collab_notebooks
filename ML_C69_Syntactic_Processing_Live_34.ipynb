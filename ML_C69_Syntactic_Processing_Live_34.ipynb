{
  "nbformat": 4,
  "nbformat_minor": 0,
  "metadata": {
    "colab": {
      "provenance": [],
      "authorship_tag": "ABX9TyM4poFpYpw4ZEeWFIpVI0D2",
      "include_colab_link": true
    },
    "kernelspec": {
      "name": "python3",
      "display_name": "Python 3"
    },
    "language_info": {
      "name": "python"
    }
  },
  "cells": [
    {
      "cell_type": "markdown",
      "metadata": {
        "id": "view-in-github",
        "colab_type": "text"
      },
      "source": [
        "<a href=\"https://colab.research.google.com/github/kushbajpai/collab_notebooks/blob/main/ML_C69_Syntactic_Processing_Live_34.ipynb\" target=\"_parent\"><img src=\"https://colab.research.google.com/assets/colab-badge.svg\" alt=\"Open In Colab\"/></a>"
      ]
    },
    {
      "cell_type": "code",
      "execution_count": null,
      "metadata": {
        "id": "GD3AVcQlkhCZ"
      },
      "outputs": [],
      "source": [
        "import nltk"
      ]
    },
    {
      "cell_type": "code",
      "source": [
        "nltk.download('punkt_tab')\n",
        "nltk.download('averaged_perceptron_tagger_eng')\n",
        "nltk.download('averaged_perceptron_tagger') # needed for pos tagging"
      ],
      "metadata": {
        "colab": {
          "base_uri": "https://localhost:8080/"
        },
        "id": "6rfy6TT-k1vM",
        "outputId": "656f9a40-6210-4457-c64c-8d4de5c9f6c7"
      },
      "execution_count": null,
      "outputs": [
        {
          "output_type": "stream",
          "name": "stderr",
          "text": [
            "[nltk_data] Downloading package punkt_tab to /root/nltk_data...\n",
            "[nltk_data]   Package punkt_tab is already up-to-date!\n",
            "[nltk_data] Downloading package averaged_perceptron_tagger_eng to\n",
            "[nltk_data]     /root/nltk_data...\n",
            "[nltk_data]   Package averaged_perceptron_tagger_eng is already up-to-\n",
            "[nltk_data]       date!\n",
            "[nltk_data] Downloading package averaged_perceptron_tagger to\n",
            "[nltk_data]     /root/nltk_data...\n",
            "[nltk_data]   Package averaged_perceptron_tagger is already up-to-\n",
            "[nltk_data]       date!\n"
          ]
        },
        {
          "output_type": "execute_result",
          "data": {
            "text/plain": [
              "True"
            ]
          },
          "metadata": {},
          "execution_count": 3
        }
      ]
    },
    {
      "cell_type": "code",
      "source": [
        "# Sample Text\n",
        "text = \"Alice loves painting in the quiet evenings.\""
      ],
      "metadata": {
        "id": "RCUNdsX7mh0w"
      },
      "execution_count": null,
      "outputs": []
    },
    {
      "cell_type": "code",
      "source": [
        "from nltk.tokenize import word_tokenize"
      ],
      "metadata": {
        "id": "F4oIgjIfmslH"
      },
      "execution_count": null,
      "outputs": []
    },
    {
      "cell_type": "code",
      "source": [
        "# Tokenize the text\n",
        "tokens = word_tokenize(text)\n",
        "tokens"
      ],
      "metadata": {
        "colab": {
          "base_uri": "https://localhost:8080/"
        },
        "id": "a3ZZZ4bSmuYT",
        "outputId": "1d8859f7-8805-46d9-e893-72bf1a948f8a"
      },
      "execution_count": null,
      "outputs": [
        {
          "output_type": "execute_result",
          "data": {
            "text/plain": [
              "['Alice', 'loves', 'painting', 'in', 'the', 'quiet', 'evenings', '.']"
            ]
          },
          "metadata": {},
          "execution_count": 6
        }
      ]
    },
    {
      "cell_type": "code",
      "source": [
        "# Use pre-trained POS tager\n",
        "pos_tags = nltk.pos_tag(tokens)\n",
        "print(pos_tags)"
      ],
      "metadata": {
        "colab": {
          "base_uri": "https://localhost:8080/"
        },
        "id": "adyETfw1mzpR",
        "outputId": "ba19dc19-4501-49f7-affc-3eec6613ea72"
      },
      "execution_count": null,
      "outputs": [
        {
          "output_type": "stream",
          "name": "stdout",
          "text": [
            "[('Alice', 'NNP'), ('loves', 'VBZ'), ('painting', 'VBG'), ('in', 'IN'), ('the', 'DT'), ('quiet', 'JJ'), ('evenings', 'NNS'), ('.', '.')]\n"
          ]
        }
      ]
    },
    {
      "cell_type": "markdown",
      "source": [
        " - NNP: Proper noun, sigular\n",
        " - VBX: 3rd person sigular present\n",
        " - VBG: Present particple\n",
        " - IN: Preposition\n",
        " - DT: Determiner\n",
        " - JJ: Adjective\n",
        " - NNS: Plural noun\n",
        "<br/>\n",
        "\n",
        " - Use pre-trained POS tagger\n",
        " - Customise this pre-trained POS tagger only\n",
        "\n",
        " <br/>\n",
        "\n",
        " **Reference:** https://spotintelligence.com/2023/01/24/part-of-speech-pos-tagging-in-nlp-python/"
      ],
      "metadata": {
        "id": "rLcJobqtoyH-"
      }
    },
    {
      "cell_type": "code",
      "source": [
        "# Define custom rules\n",
        "def custom_tagger(pos_tags):\n",
        "  modified_tags = []\n",
        "  for word, tag in pos_tags:\n",
        "    # Rule 1: \"painting\" should always be a noun\n",
        "    if word.lower() == \"painting\":\n",
        "      modified_tags.append((word, \"NN\"))\n",
        "    # Rule 2: \"evenings\" should always be singular noun\n",
        "    elif word.lower() == \"evenings\":\n",
        "      modified_tags.append((word, \"NN\"))\n",
        "    else:\n",
        "      # Default case: Use the tag from the pre-trained tagger\n",
        "      modified_tags.append((word, tag))\n",
        "    return modified_tags"
      ],
      "metadata": {
        "id": "YVR2hKwVm8Mc"
      },
      "execution_count": 22,
      "outputs": []
    },
    {
      "cell_type": "code",
      "source": [
        "# Apply the custom rule-based tagger\n",
        "custom_pos_tags = custom_tagger(pos_tags)\n",
        "print(\"Custom POS Tags:\", custom_pos_tags)"
      ],
      "metadata": {
        "id": "_2KTJRkYpjj3",
        "colab": {
          "base_uri": "https://localhost:8080/"
        },
        "outputId": "6b09ae1e-bb8e-4476-df41-3204c1791125"
      },
      "execution_count": 23,
      "outputs": [
        {
          "output_type": "stream",
          "name": "stdout",
          "text": [
            "Custom POS Tags: [('Alice', 'NNP')]\n"
          ]
        }
      ]
    },
    {
      "cell_type": "code",
      "source": [
        "from nltk.corpus import treebank\n",
        "from nltk.tag import UnigramTagger # Rule Based Tagger"
      ],
      "metadata": {
        "id": "y5q69cBWpjQt"
      },
      "execution_count": 8,
      "outputs": []
    },
    {
      "cell_type": "code",
      "source": [
        "nltk.download('treebank')"
      ],
      "metadata": {
        "colab": {
          "base_uri": "https://localhost:8080/"
        },
        "id": "1zx0VV9RywMW",
        "outputId": "d66d2a6a-c6ce-41af-e78b-c1813c5a8aeb"
      },
      "execution_count": 9,
      "outputs": [
        {
          "output_type": "stream",
          "name": "stderr",
          "text": [
            "[nltk_data] Downloading package treebank to /root/nltk_data...\n",
            "[nltk_data]   Unzipping corpora/treebank.zip.\n"
          ]
        },
        {
          "output_type": "execute_result",
          "data": {
            "text/plain": [
              "True"
            ]
          },
          "metadata": {},
          "execution_count": 9
        }
      ]
    },
    {
      "cell_type": "code",
      "source": [
        "# Load tagged sentences from the Treebank corpus\n",
        "tagged_sentences = treebank.tagged_sents()\n",
        "print(\"Sample Tagged Sentences:\", tagged_sentences)"
      ],
      "metadata": {
        "colab": {
          "base_uri": "https://localhost:8080/"
        },
        "id": "4lpWpEQyyyRu",
        "outputId": "a4abeb87-7c2a-4f25-c006-40ee8262272e"
      },
      "execution_count": 10,
      "outputs": [
        {
          "output_type": "stream",
          "name": "stdout",
          "text": [
            "Sample Tagged Sentences: [[('Pierre', 'NNP'), ('Vinken', 'NNP'), (',', ','), ('61', 'CD'), ('years', 'NNS'), ('old', 'JJ'), (',', ','), ('will', 'MD'), ('join', 'VB'), ('the', 'DT'), ('board', 'NN'), ('as', 'IN'), ('a', 'DT'), ('nonexecutive', 'JJ'), ('director', 'NN'), ('Nov.', 'NNP'), ('29', 'CD'), ('.', '.')], [('Mr.', 'NNP'), ('Vinken', 'NNP'), ('is', 'VBZ'), ('chairman', 'NN'), ('of', 'IN'), ('Elsevier', 'NNP'), ('N.V.', 'NNP'), (',', ','), ('the', 'DT'), ('Dutch', 'NNP'), ('publishing', 'VBG'), ('group', 'NN'), ('.', '.')], ...]\n"
          ]
        }
      ]
    },
    {
      "cell_type": "code",
      "source": [
        "len(tagged_sentences)"
      ],
      "metadata": {
        "colab": {
          "base_uri": "https://localhost:8080/"
        },
        "id": "h0kbvp6jzAeH",
        "outputId": "1f0e7b58-3e4e-462b-a9aa-9cd15a6f7bb3"
      },
      "execution_count": 11,
      "outputs": [
        {
          "output_type": "execute_result",
          "data": {
            "text/plain": [
              "3914"
            ]
          },
          "metadata": {},
          "execution_count": 11
        }
      ]
    },
    {
      "cell_type": "code",
      "source": [
        "# Split date into 80% training and 20% testing\n",
        "from sklearn.model_selection import train_test_split\n",
        "train_data, test_data = train_test_split(tagged_sentences, test_size=0.2, random_state=42)\n",
        "\n",
        "print(\"Number of Training Sentences:\", len(train_data))\n",
        "print(\"Number of Testing Sentences:\", len(test_data))"
      ],
      "metadata": {
        "colab": {
          "base_uri": "https://localhost:8080/"
        },
        "id": "XIpGXwXVzDRi",
        "outputId": "a94c46d1-03a0-4d25-fff5-e2cbae7ec51f"
      },
      "execution_count": 24,
      "outputs": [
        {
          "output_type": "stream",
          "name": "stdout",
          "text": [
            "Number of Training Sentences: 3131\n",
            "Number of Testing Sentences: 783\n"
          ]
        }
      ]
    },
    {
      "cell_type": "markdown",
      "source": [
        "\"painting\" (40) -> NNP: 32VBZ: 8 Final Prediction -> Painting -> NNP(most frequent tag)"
      ],
      "metadata": {
        "id": "kAIcvTjh1XaW"
      }
    },
    {
      "cell_type": "code",
      "source": [
        "# Train a Unigram POS Tagger\n",
        "unigram_tagger = UnigramTagger(train_data)"
      ],
      "metadata": {
        "id": "UO0z1nVnzKWd"
      },
      "execution_count": 25,
      "outputs": []
    },
    {
      "cell_type": "code",
      "source": [
        "accuracy = unigram_tagger.accuracy(test_data)\n",
        "print(\"Uniram Tagger Accuracy:\", round(100*accuracy, 2), \"%\")"
      ],
      "metadata": {
        "colab": {
          "base_uri": "https://localhost:8080/"
        },
        "id": "3R30qV8m1yS9",
        "outputId": "8d809ac8-a45f-4620-c264-aa77557abf52"
      },
      "execution_count": 27,
      "outputs": [
        {
          "output_type": "stream",
          "name": "stdout",
          "text": [
            "Uniram Tagger Accuracy: 88.27 %\n"
          ]
        }
      ]
    },
    {
      "cell_type": "code",
      "source": [
        "from nltk.tag import BigramTagger"
      ],
      "metadata": {
        "id": "WTal9HiU1_nH"
      },
      "execution_count": 28,
      "outputs": []
    },
    {
      "cell_type": "code",
      "source": [
        "# Train a Bigram POS Tagger with Unigram Tagger as backoff\n",
        "bigram_tagger = BigramTagger(train_data, backoff=unigram_tagger)"
      ],
      "metadata": {
        "id": "cWw1twrn2iMw"
      },
      "execution_count": 29,
      "outputs": []
    },
    {
      "cell_type": "code",
      "source": [
        "# Evaluate the bigram tagger\n",
        "accuracy = bigram_tagger.accuracy(test_data)\n",
        "print(\"Bigram Tagger Accuracy:\", round(100*accuracy, 2), \"%\")"
      ],
      "metadata": {
        "colab": {
          "base_uri": "https://localhost:8080/"
        },
        "id": "l-gP9MXC3aOD",
        "outputId": "c2d0f3d7-a7c5-484a-a504-cb17d0c05248"
      },
      "execution_count": 30,
      "outputs": [
        {
          "output_type": "stream",
          "name": "stdout",
          "text": [
            "Bigram Tagger Accuracy: 89.12 %\n"
          ]
        }
      ]
    },
    {
      "cell_type": "code",
      "source": [
        "from nltk.tag import TrigramTagger"
      ],
      "metadata": {
        "id": "if94GliM3hx_"
      },
      "execution_count": 31,
      "outputs": []
    },
    {
      "cell_type": "code",
      "source": [
        "# Train a Trigram POS Tagger with Bigram as backoff\n",
        "trigram_tagger = TrigramTagger(train_data, backoff=bigram_tagger)"
      ],
      "metadata": {
        "id": "ZnQnyvMN3lNO"
      },
      "execution_count": 32,
      "outputs": []
    },
    {
      "cell_type": "code",
      "source": [
        "# Evaluate the trigram tagger\n",
        "accuracy = trigram_tagger.accuracy(test_data)\n",
        "print(\"Trigram Tagger Accuracy:\", round(100*accuracy, 2), \"%\")"
      ],
      "metadata": {
        "colab": {
          "base_uri": "https://localhost:8080/"
        },
        "id": "0WaMaPgT3uHE",
        "outputId": "147dd6a4-8c73-47f1-9041-ac094f609fc9"
      },
      "execution_count": 33,
      "outputs": [
        {
          "output_type": "stream",
          "name": "stdout",
          "text": [
            "Trigram Tagger Accuracy: 89.15 %\n"
          ]
        }
      ]
    },
    {
      "cell_type": "markdown",
      "source": [
        "- Pre-trained models\n",
        "- Pre-trained models + Manual Rule Based Adjustments(This can be done for few cases) ( Customization)\n",
        "- Customised tained models with non-machine learning logic ( Unigram Tageer, Bigram Tageer, Trigram Taeer) - Fequency Based\n",
        "- Customised trained model with machine learning logic(Classifer Based POS Tagger)"
      ],
      "metadata": {
        "id": "5Q0u--un50ZJ"
      }
    },
    {
      "cell_type": "code",
      "source": [
        "sent  = \"The capital of India is New Delhi\""
      ],
      "metadata": {
        "id": "P26wg0yP3yoy"
      },
      "execution_count": 34,
      "outputs": []
    },
    {
      "cell_type": "code",
      "source": [
        "# Tokenize and tag using th trained tagger\n",
        "tokens = nltk.word_tokenize(sent)"
      ],
      "metadata": {
        "id": "xumIIUz36kuZ"
      },
      "execution_count": 35,
      "outputs": []
    },
    {
      "cell_type": "code",
      "source": [
        "tags = unigram_tagger.tag(tokens)\n",
        "print(\"Tagged Sentences\", tags)"
      ],
      "metadata": {
        "colab": {
          "base_uri": "https://localhost:8080/"
        },
        "id": "L9_yUzMn6u6I",
        "outputId": "b8f56316-ad6f-4eba-a5c1-4f8e382dda81"
      },
      "execution_count": 36,
      "outputs": [
        {
          "output_type": "stream",
          "name": "stdout",
          "text": [
            "Tagged Sentences [('The', 'DT'), ('capital', 'NN'), ('of', 'IN'), ('India', 'NNP'), ('is', 'VBZ'), ('New', 'NNP'), ('Delhi', None)]\n"
          ]
        }
      ]
    },
    {
      "cell_type": "code",
      "source": [
        "for i in tagged_sentences:\n",
        "  for j in i:\n",
        "    if j[0] == \"Delhi\":\n",
        "      print(j)"
      ],
      "metadata": {
        "id": "VZZeEDoQ6250"
      },
      "execution_count": 37,
      "outputs": []
    },
    {
      "cell_type": "code",
      "source": [
        "from nltk.tag.sequential import ClassifierBasedPOSTagger"
      ],
      "metadata": {
        "id": "fNm2OB6g6_FR"
      },
      "execution_count": 38,
      "outputs": []
    },
    {
      "cell_type": "code",
      "source": [
        "# Train a Classifier-Based POS Tagger\n",
        "classifier_tagger = ClassifierBasedPOSTagger(train=train_data)"
      ],
      "metadata": {
        "id": "UgGZkjW17GW8"
      },
      "execution_count": 39,
      "outputs": []
    },
    {
      "cell_type": "code",
      "source": [
        "# Evaluate the classifier tagger\n",
        "accuracy = classifier_tagger.accuracy(test_data)\n",
        "print(\"Classifier-Bassed Tagger Accuracy:\", round(100*accuracy, 2), \"%\")"
      ],
      "metadata": {
        "colab": {
          "base_uri": "https://localhost:8080/"
        },
        "id": "6My0AK-l7M1Y",
        "outputId": "343e2c2e-ea63-4038-a069-368d3e1a41ed"
      },
      "execution_count": 40,
      "outputs": [
        {
          "output_type": "stream",
          "name": "stdout",
          "text": [
            "Classifier-Bassed Tagger Accuracy: 93.75 %\n"
          ]
        }
      ]
    },
    {
      "cell_type": "code",
      "source": [
        "tags = classifier_tagger.tag(tokens)\n",
        "print(\"Tagged Sentences\", tags)"
      ],
      "metadata": {
        "colab": {
          "base_uri": "https://localhost:8080/"
        },
        "id": "rlwa7_Bd7aUt",
        "outputId": "7e9a2a0d-8916-4cb2-e206-772c1544e227"
      },
      "execution_count": 41,
      "outputs": [
        {
          "output_type": "stream",
          "name": "stdout",
          "text": [
            "Tagged Sentences [('The', 'DT'), ('capital', 'NN'), ('of', 'IN'), ('India', 'NNP'), ('is', 'VBZ'), ('New', 'NNP'), ('Delhi', 'NNP')]\n"
          ]
        }
      ]
    }
  ]
}