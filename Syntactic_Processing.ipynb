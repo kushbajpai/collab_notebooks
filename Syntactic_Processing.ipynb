{
  "nbformat": 4,
  "nbformat_minor": 0,
  "metadata": {
    "colab": {
      "provenance": [],
      "authorship_tag": "ABX9TyPJY23RG8ScaXy0Imk6zFYy",
      "include_colab_link": true
    },
    "kernelspec": {
      "name": "python3",
      "display_name": "Python 3"
    },
    "language_info": {
      "name": "python"
    }
  },
  "cells": [
    {
      "cell_type": "markdown",
      "metadata": {
        "id": "view-in-github",
        "colab_type": "text"
      },
      "source": [
        "<a href=\"https://colab.research.google.com/github/kushbajpai/collab_notebooks/blob/main/Syntactic_Processing.ipynb\" target=\"_parent\"><img src=\"https://colab.research.google.com/assets/colab-badge.svg\" alt=\"Open In Colab\"/></a>"
      ]
    },
    {
      "cell_type": "code",
      "execution_count": null,
      "metadata": {
        "id": "5jOEPgWpjoc7"
      },
      "outputs": [],
      "source": []
    },
    {
      "cell_type": "code",
      "source": [
        "import spacy"
      ],
      "metadata": {
        "id": "yn9iy9Dhjtvr"
      },
      "execution_count": null,
      "outputs": []
    },
    {
      "cell_type": "code",
      "source": [
        "model = spacy.load(\"en_core_web_sm\")"
      ],
      "metadata": {
        "id": "ERoYim4ljvIW"
      },
      "execution_count": null,
      "outputs": []
    },
    {
      "cell_type": "code",
      "source": [
        "#Use the model to process the input sentence\n",
        "tokens = model(\"She wished she could desert him in the desert.\")"
      ],
      "metadata": {
        "id": "CRnOvv1QkCJL"
      },
      "execution_count": null,
      "outputs": []
    },
    {
      "cell_type": "code",
      "source": [
        "# Print the tokens and their respective PoS tags.\n",
        "def print_tokens(tokens):\n",
        "  for token in tokens:\n",
        "      print(token.text, \"--\", token.pos_, \"--\", token.tag_)"
      ],
      "metadata": {
        "id": "A77ojYbtjw5p"
      },
      "execution_count": null,
      "outputs": []
    },
    {
      "cell_type": "code",
      "source": [
        "print_tokens(model(\"She wished she could desert him in the desert.\"))"
      ],
      "metadata": {
        "colab": {
          "base_uri": "https://localhost:8080/"
        },
        "id": "3lL-ddrCkTG1",
        "outputId": "394bdc38-b2fd-4aca-c13d-2bf05d19dbb8"
      },
      "execution_count": null,
      "outputs": [
        {
          "output_type": "stream",
          "name": "stdout",
          "text": [
            "She -- PRON -- PRP\n",
            "wished -- VERB -- VBD\n",
            "she -- PRON -- PRP\n",
            "could -- AUX -- MD\n",
            "desert -- VERB -- VB\n",
            "him -- PRON -- PRP\n",
            "in -- ADP -- IN\n",
            "the -- DET -- DT\n",
            "desert -- NOUN -- NN\n",
            ". -- PUNCT -- .\n"
          ]
        }
      ]
    },
    {
      "cell_type": "code",
      "source": [
        "print_tokens(model(\"She wished she couApple is looking at buying UK-based start-up for $1 billion\"))"
      ],
      "metadata": {
        "colab": {
          "base_uri": "https://localhost:8080/"
        },
        "id": "YFennCo0kXGb",
        "outputId": "0c2d2e01-c6ac-4dda-d8af-f298c8ce90d2"
      },
      "execution_count": null,
      "outputs": [
        {
          "output_type": "stream",
          "name": "stdout",
          "text": [
            "She -- PRON -- PRP\n",
            "wished -- VERB -- VBD\n",
            "she -- PRON -- PRP\n",
            "couApple -- PROPN -- NNP\n",
            "is -- AUX -- VBZ\n",
            "looking -- VERB -- VBG\n",
            "at -- ADP -- IN\n",
            "buying -- VERB -- VBG\n",
            "UK -- PROPN -- NNP\n",
            "- -- PUNCT -- HYPH\n",
            "based -- VERB -- VBN\n",
            "start -- NOUN -- NN\n",
            "- -- PUNCT -- HYPH\n",
            "up -- NOUN -- NN\n",
            "for -- ADP -- IN\n",
            "$ -- SYM -- $\n",
            "1 -- NUM -- CD\n",
            "billion -- NUM -- CD\n"
          ]
        }
      ]
    },
    {
      "cell_type": "code",
      "source": [
        "print_tokens(model(\"UpGrad is teaching Data Science courses to the working professionals.\"))"
      ],
      "metadata": {
        "colab": {
          "base_uri": "https://localhost:8080/"
        },
        "id": "KkhxQFY5l7ZD",
        "outputId": "22d01798-9a24-4fa7-a6d4-c060b29f6966"
      },
      "execution_count": null,
      "outputs": [
        {
          "output_type": "stream",
          "name": "stdout",
          "text": [
            "UpGrad -- PROPN -- NNP\n",
            "is -- AUX -- VBZ\n",
            "teaching -- VERB -- VBG\n",
            "Data -- PROPN -- NNP\n",
            "Science -- PROPN -- NNP\n",
            "courses -- NOUN -- NNS\n",
            "to -- ADP -- IN\n",
            "the -- DET -- DT\n",
            "working -- VERB -- VBG\n",
            "professionals -- NOUN -- NNS\n",
            ". -- PUNCT -- .\n"
          ]
        }
      ]
    },
    {
      "cell_type": "code",
      "source": [
        "print_tokens(model(\"UpGrad is teaching Data Science courses to the working professionals.\"))"
      ],
      "metadata": {
        "colab": {
          "base_uri": "https://localhost:8080/"
        },
        "id": "qTh2tVnXl-85",
        "outputId": "2bfcf802-2889-4571-e511-b2288d3047a9"
      },
      "execution_count": null,
      "outputs": [
        {
          "output_type": "stream",
          "name": "stdout",
          "text": [
            "UpGrad -- PROPN -- NNP\n",
            "is -- AUX -- VBZ\n",
            "teaching -- VERB -- VBG\n",
            "Data -- PROPN -- NNP\n",
            "Science -- PROPN -- NNP\n",
            "courses -- NOUN -- NNS\n",
            "to -- ADP -- IN\n",
            "the -- DET -- DT\n",
            "working -- VERB -- VBG\n",
            "professionals -- NOUN -- NNS\n",
            ". -- PUNCT -- .\n"
          ]
        }
      ]
    },
    {
      "cell_type": "code",
      "source": [
        "import spacy\n",
        "nlp = spacy.load(\"en_core_web_sm\")\n",
        "doc = nlp(\"upGrad is teaching Data Science courses to the working professionals.\")\n",
        "for token in doc:\n",
        "    print(token.text, token.pos_, token.tag_)"
      ],
      "metadata": {
        "colab": {
          "base_uri": "https://localhost:8080/"
        },
        "id": "VVT3bJVzmKF3",
        "outputId": "fc4d1bd3-292e-4728-db29-9b4953b29efc"
      },
      "execution_count": null,
      "outputs": [
        {
          "output_type": "stream",
          "name": "stdout",
          "text": [
            "upGrad NOUN NN\n",
            "is AUX VBZ\n",
            "teaching VERB VBG\n",
            "Data PROPN NNP\n",
            "Science PROPN NNP\n",
            "courses NOUN NNS\n",
            "to ADP IN\n",
            "the DET DT\n",
            "working VERB VBG\n",
            "professionals NOUN NNS\n",
            ". PUNCT .\n"
          ]
        }
      ]
    }
  ]
}